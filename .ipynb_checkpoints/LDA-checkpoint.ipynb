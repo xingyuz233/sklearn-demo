{
 "cells": [
  {
   "cell_type": "markdown",
   "metadata": {},
   "source": [
    "1.导入类库"
   ]
  },
  {
   "cell_type": "code",
   "execution_count": 2,
   "metadata": {},
   "outputs": [],
   "source": [
    "import numpy as np\n",
    "from sklearn.discriminant_analysis import LinearDiscriminantAnalysis"
   ]
  },
  {
   "cell_type": "markdown",
   "metadata": {},
   "source": [
    "2.使用线性判别进行降维"
   ]
  },
  {
   "cell_type": "code",
   "execution_count": 3,
   "metadata": {},
   "outputs": [
    {
     "data": {
      "text/plain": [
       "array([[-1.73205081, -1.73205081, -3.46410162,  1.73205081,  1.73205081,\n",
       "         3.46410162]])"
      ]
     },
     "execution_count": 3,
     "metadata": {},
     "output_type": "execute_result"
    }
   ],
   "source": [
    "# 读入分类数据X和类标签y\n",
    "X = np.array([[-1, -1], [-2, -1], [-3, -2], [1, 1], [2, 1], [3, 2]])\n",
    "y = np.array([1, 1, 1, 2, 2, 2])\n",
    "# 对数据进行降维\n",
    "clf = LinearDiscriminantAnalysis(n_components=1)\n",
    "reduced_data = clf.fit_transform(X, y)\n",
    "reduced_data.T"
   ]
  },
  {
   "cell_type": "markdown",
   "metadata": {},
   "source": [
    "3.降维效果分析"
   ]
  },
  {
   "cell_type": "code",
   "execution_count": 4,
   "metadata": {},
   "outputs": [
    {
     "name": "stdout",
     "output_type": "stream",
     "text": [
      "('RC', array([1]))\n",
      "('OC', array([1]))\n"
     ]
    }
   ],
   "source": [
    "# 使用降维数据构建分类器，LDA降维的目的是分类准确率的最大化，因而如果数据的目的是分类。那么LDA是非常好的降维工具\n",
    "RC = LinearDiscriminantAnalysis(n_components=1)\n",
    "RC.fit(reduced_data, y)\n",
    "# 使用未降维的数据构建分类器\n",
    "OC = LinearDiscriminantAnalysis(n_components=1)\n",
    "OC.fit(X, y)\n",
    "# 分类结果对比\n",
    "print('RC', RC.predict([[-1.73205081]]))\n",
    "print('OC', OC.predict([[-1, -1]]))"
   ]
  },
  {
   "cell_type": "code",
   "execution_count": null,
   "metadata": {},
   "outputs": [],
   "source": []
  }
 ],
 "metadata": {
  "kernelspec": {
   "display_name": "Python 2",
   "language": "python",
   "name": "python2"
  },
  "language_info": {
   "codemirror_mode": {
    "name": "ipython",
    "version": 2
   },
   "file_extension": ".py",
   "mimetype": "text/x-python",
   "name": "python",
   "nbconvert_exporter": "python",
   "pygments_lexer": "ipython2",
   "version": "2.7.16"
  }
 },
 "nbformat": 4,
 "nbformat_minor": 2
}
