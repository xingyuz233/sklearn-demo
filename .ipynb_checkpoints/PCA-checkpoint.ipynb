{
 "cells": [
  {
   "cell_type": "markdown",
   "metadata": {},
   "source": [
    "类库的导入"
   ]
  },
  {
   "cell_type": "code",
   "execution_count": 1,
   "metadata": {
    "scrolled": true
   },
   "outputs": [],
   "source": [
    "from sklearn.decomposition import PCA\n",
    "import pandas as pd\n",
    "import numpy as np\n",
    "import matplotlib.pyplot as plt"
   ]
  },
  {
   "cell_type": "markdown",
   "metadata": {},
   "source": [
    "主成分分析"
   ]
  },
  {
   "cell_type": "code",
   "execution_count": 2,
   "metadata": {},
   "outputs": [
    {
     "name": "stdout",
     "output_type": "stream",
     "text": [
      "('PCA:', array([0.96318131]))\n",
      "('reduced_data:', array([[-0.82797019],\n",
      "       [ 1.77758033],\n",
      "       [-0.99219749],\n",
      "       [-0.27421042],\n",
      "       [-1.67580142],\n",
      "       [-0.9129491 ],\n",
      "       [ 0.09910944],\n",
      "       [ 1.14457216],\n",
      "       [ 0.43804614],\n",
      "       [ 1.22382056]]))\n"
     ]
    }
   ],
   "source": [
    "df = pd.DataFrame(np.array([\n",
    "    np.array([2.5, 0.5, 2.2, 1.9, 3.1, 2.3, 2.0, 1.0, 1.5, 1.1]),\n",
    "    np.array([2.4, 0.7, 2.9, 2.2, 3.0, 2.7, 1.6, 1.1, 1.6, 0.9])]).T)\n",
    "\n",
    "# 模型建立\n",
    "myPCA = PCA(n_components=1)\n",
    "\n",
    "reduced_data = myPCA.fit_transform(df)\n",
    "explained_variance_ratio = myPCA.explained_variance_ratio_\n",
    "\n",
    "# PCA降维结果展示\n",
    "print(\"PCA:\", myPCA.explained_variance_ratio_)\n",
    "print(\"reduced_data:\", reduced_data)"
   ]
  },
  {
   "cell_type": "markdown",
   "metadata": {},
   "source": []
  },
  {
   "cell_type": "code",
   "execution_count": null,
   "metadata": {},
   "outputs": [],
   "source": []
  },
  {
   "cell_type": "code",
   "execution_count": null,
   "metadata": {},
   "outputs": [],
   "source": []
  }
 ],
 "metadata": {
  "kernelspec": {
   "display_name": "Python 2",
   "language": "python",
   "name": "python2"
  },
  "language_info": {
   "codemirror_mode": {
    "name": "ipython",
    "version": 2
   },
   "file_extension": ".py",
   "mimetype": "text/x-python",
   "name": "python",
   "nbconvert_exporter": "python",
   "pygments_lexer": "ipython2",
   "version": "2.7.16"
  }
 },
 "nbformat": 4,
 "nbformat_minor": 2
}
